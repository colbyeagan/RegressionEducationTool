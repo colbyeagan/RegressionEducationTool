{
 "cells": [
  {
   "cell_type": "markdown",
   "metadata": {},
   "source": [
    "# Linear regression walkthrough\n",
    "There are many ways to calculate regression, however using matrices is one of my favorite ways because of how scalable it is to higher orders as well as how quick it is when the A matrix is invertible upon projection to the nearest subspace.  \n",
    "  \n",
    "$$Ax = b$$\n",
    "Let matrix A be a matrix with height of the number of data points. A has a column of ones, a column of the x values, and an extra column for every higher order desired in our line of best fit where the column will be the x values to that order. For instance, for a line of best fit with order to the power of 2, the A matrix will have a column of ones, of x values, and of each of the x values squared. For a line of best fit with order of 3, just add another column of each of the x values to the power of 3. Let x be of height of the number of columns in A. x is unknown. We are trying to solve for x. The solution for x will be called x with a hat on top, or x hat. x hat will be the coefficients of each x in our line of best fit. Finally, be is simply a matrix with one column that contains all of the y coordinates. \n",
    "$$Ax = b$$\n",
    "Solve by multiplying both sides by A transpose -----------------------------------------------------------------------------------\n",
    "$$A^TA\\hat{x} = A^Tb$$\n",
    "Simplify -------------------------------------------------------------\n",
    "$$\\hat{x} = ((A^TA)^{-1})(A^Tb)$$\n",
    "When ATA is not invertible, take the pseudoinverse to approximate the closest inverse. In all cases, one is safest to simply take the pseudoinverse becasuse if the matrix is invertible then the pseudoinverse will just be the inverse. It is more computationally intensive, but not much more.\n",
    "\n",
    "Then to calculate Error for metrics like R squared or MAE etc, you can use the fact that the error matrix equals\n",
    "$$e = b - p$$\n",
    "Where -------------------------------------------------------------\n",
    "$$p = A\\hat{x}$$  \n",
    "  \n",
    "Next to calculate R², we use the following equation ---------------------------------------------------------\n",
    "$$R^2 = 1 - \\frac{\\sum_{i=1}^{n} (y_i - \\hat{y}_i)^2}{\\sum_{i=1}^{n} (y_i - \\bar{y})^2}$$\n",
    "$$=$$\n",
    "$$R^2 = 1 - \\frac{SSR}{SST}$$\n",
    "The numerator of this equation is called the sum squared regression (SSR). It is the sum of the squared differences between all of the actual y data points and their predicted values on the lne of best fit.  \n",
    "The denominator is called the total sum of squares (SST). It is the sum of the squared differences between all of the actual y data points and the mean of all of the y data points."
   ]
  },
  {
   "cell_type": "code",
   "execution_count": 13,
   "metadata": {},
   "outputs": [],
   "source": [
    "import numpy as np\n",
    "import plotly.graph_objects as go\n",
    "import re\n",
    "from sympy import symbols, sympify\n",
    "\n",
    "\n",
    "def parse_input(input_string):\n",
    "    # Add a '*' between a digit and 'x' if not already present\n",
    "    input_string = re.sub(r'(\\d)([xX])', r'\\1*\\2', input_string)\n",
    "    \n",
    "    # Add a '1*' before 'x' if coefficient is not present\n",
    "    input_string = re.sub(r'(?<!\\d)([xX])', r'1*\\1', input_string)\n",
    "\n",
    "    # Replace '^' with '**' for exponentiation\n",
    "    input_string = input_string.replace('^', '**')\n",
    "\n",
    "    return input_string\n",
    "\n",
    "def convert_text(text):\n",
    "    text = str(text)\n",
    "    normal_chars = \"0123456789\"\n",
    "    superscript_chars = \"⁰¹²³⁴⁵⁶⁷⁸⁹\"\n",
    "\n",
    "    mapping = str.maketrans(normal_chars, superscript_chars)\n",
    "\n",
    "    converted_text = text.translate(mapping)\n",
    "    return converted_text\n",
    "\n",
    "def create_dist(x_mean: float, x_std: float, y_equation: str, y_noise_mean: float, y_noise_std, num_of_points: int, order: int, x_dist: str, y_dist: str):\n",
    "    # Generate your x and y data points\n",
    "    if(x_dist == \"norm\"):\n",
    "        x = np.random.normal(x_mean, x_std, num_of_points)\n",
    "    else:\n",
    "        xlow = x_mean-(x_std/2)\n",
    "        xhigh = x_mean+(x_std/2)\n",
    "        x = np.random.uniform(xlow, xhigh, num_of_points)\n",
    "    \n",
    "    # Create a sympy symbol for 'x'\n",
    "    x_sym = symbols('x')\n",
    "\n",
    "    # Parse the equation string into a sympy expression\n",
    "    y_equation_parsed = sympify(parse_input(y_equation))\n",
    "\n",
    "    # Evaluate the expression for the generated 'x' values\n",
    "    y = np.array([float(y_equation_parsed.subs(x_sym, val)) for val in x])\n",
    "    \n",
    "    # Add noise to 'y'\n",
    "    if(y_dist==\"norm\"):\n",
    "        y += np.random.normal(y_noise_mean, y_noise_std, num_of_points)\n",
    "    else:\n",
    "        ylow = y_noise_mean-(y_noise_std/2)\n",
    "        yhigh = y_noise_mean+(y_noise_std/2)\n",
    "        y += np.random.uniform(ylow, yhigh, num_of_points)\n",
    "\n",
    "    # Add a column of ones to account for the y intercept constant\n",
    "    A = np.column_stack((np.ones(x.shape[0]), x))\n",
    "    for i in range(2, order + 1):\n",
    "        A = np.column_stack((A, x**i))\n",
    "\n",
    "\n",
    "    \"\"\"START OF CALCULATIONS\"\"\"\n",
    "\n",
    "    # Generating x hat for Ax = b\n",
    "    def generate_x_hat(A: np.array):\n",
    "        x_hat = np.linalg.pinv(A.T.dot(A)).dot(A.T).dot(y)\n",
    "        return x_hat\n",
    "\n",
    "    x_hat = generate_x_hat(A)\n",
    "\n",
    "    # Calculate error \n",
    "    # y - p where p = A(x_hat)\n",
    "    p = A.dot(x_hat)\n",
    "    error = y - p\n",
    "\n",
    "    # Calculate R^2 -- SSR/SST \n",
    "    # SSR = sum squared regression (SSR) = sum of errors squared\n",
    "    # SST = total sum of squares (SST) = (sum of y values of points) - (mean of all y values)\n",
    "    ## mean of y points\n",
    "    \n",
    "    ssr = np.sum(error ** 2)\n",
    "    sst = np.sum((y - np.mean(y)) ** 2)\n",
    "    #if (sst > -.001 and sst < .001):\n",
    "    if(sst == 0):\n",
    "        r_squared = 0\n",
    "    else:\n",
    "        r_squared = 1-(ssr/sst)\n",
    "    #print(f\"ssr: {ssr}\")\n",
    "    #print(f\"sst: {sst}\")\n",
    "    #print(f\"R^2 ssr/sst: {r_squared}\")\n",
    "    \n",
    "\n",
    "    \"\"\"END OF CALCULATIONS\"\"\"\n",
    "\n",
    "\n",
    "    \"\"\"CREATING PLOTS\"\"\"\n",
    "    # Plotting with Plotly\n",
    "    fig = go.Figure()\n",
    "\n",
    "    # Generate x values for the curve\n",
    "    x_curve = np.linspace(np.min(x), np.max(x), 100)\n",
    "    y_curve = np.zeros_like(x_curve)  # Initialize y_curve with zeros\n",
    "\n",
    "    # Add terms for each power of x_curve\n",
    "    for i in range(order + 1):\n",
    "        y_curve += x_hat[i] * (x_curve ** i)  \n",
    "    \n",
    "    # Create the string equation \n",
    "    equation = \"y = \"\n",
    "    for i in range(order, -1, -1):\n",
    "        if i == 0:\n",
    "            equation += f\"{x_hat[i]:.2f}\"\n",
    "        elif i == 1:\n",
    "            equation += f\"{x_hat[i]:.2f}x + \"\n",
    "        else:\n",
    "            equation += f\"{x_hat[i]:.2f}x{convert_text(i)} + \"\n",
    "        if i%3 == 0:\n",
    "            equation += \"<br>\"\n",
    "\n",
    "    # Used to edit the y equation output to the legend of graph\n",
    "    def add_br_every_fourth_space(input_string):\n",
    "        words = input_string.split()\n",
    "        updated_string = \"\"\n",
    "        count = 0\n",
    "\n",
    "        for word in words:\n",
    "            updated_string += word + \" \"\n",
    "            count += 1\n",
    "            if count % 4 == 0:\n",
    "                updated_string += \"<br>\"\n",
    "\n",
    "        return updated_string.strip()\n",
    "\n",
    "    # Scatter plot\n",
    "    fig.add_trace(go.Scatter(x=x, y=y, mode='markers', name='Data'))\n",
    "    # Line of best fit\n",
    "    fig.add_trace(go.Scatter(x=x_curve, y = y_curve, mode='lines', name=f\"{equation}R² = {round(r_squared, 3)}\"))\n",
    "\n",
    "    fig.add_trace(go.Scatter(\n",
    "                x=[None],\n",
    "                y=[None],\n",
    "                mode=\"markers\",\n",
    "                name=f\"# of data points: {num_of_points}\",\n",
    "                marker=dict(size=7, color=\"orange\", symbol='square'),\n",
    "            ))\n",
    "\n",
    "    fig.add_trace(go.Scatter(\n",
    "                x=[None],\n",
    "                y=[None],\n",
    "                mode=\"markers\",\n",
    "                name=f\"x_data_mean: {x_mean}\",\n",
    "                marker=dict(size=7, color=\"orange\", symbol='square'),\n",
    "            ))\n",
    "    \n",
    "    fig.add_trace(go.Scatter(\n",
    "            x=[None],\n",
    "            y=[None],\n",
    "            mode=\"markers\",\n",
    "            name=f\"x_dist: {x_dist}\",\n",
    "            marker=dict(size=7, color=\"orange\", symbol='square'),\n",
    "        ))\n",
    "    \n",
    "    fig.add_trace(go.Scatter(\n",
    "                x=[None],\n",
    "                y=[None],\n",
    "                mode=\"markers\",\n",
    "                name=f\"x_data_std/range: {x_std}\",\n",
    "                marker=dict(size=7, color=\"orange\", symbol='square'),\n",
    "            ))\n",
    "    \n",
    "    fig.add_trace(go.Scatter(\n",
    "                x=[None],\n",
    "                y=[None],\n",
    "                mode=\"markers\",\n",
    "                name=f\"y_data_equation: {add_br_every_fourth_space(y_equation)}\",\n",
    "                marker=dict(size=7, color=\"orange\", symbol='square'),\n",
    "            ))\n",
    "    \n",
    "    fig.add_trace(go.Scatter(\n",
    "                x=[None],\n",
    "                y=[None],\n",
    "                mode=\"markers\",\n",
    "                name=f\"y_noise_mean: {y_noise_mean}\",\n",
    "                marker=dict(size=7, color=\"orange\", symbol='square'),\n",
    "            ))\n",
    "    \n",
    "    fig.add_trace(go.Scatter(\n",
    "                x=[None],\n",
    "                y=[None],\n",
    "                mode=\"markers\",\n",
    "                name=f\"y_noise_dist: {y_dist}\",\n",
    "                marker=dict(size=7, color=\"orange\", symbol='square'),\n",
    "            ))\n",
    "    \n",
    "    fig.add_trace(go.Scatter(\n",
    "                x=[None],\n",
    "                y=[None],\n",
    "                mode=\"markers\",\n",
    "                name=f\"y_noise_std/range: {y_noise_std}\",\n",
    "                marker=dict(size=7, color=\"orange\", symbol='square'),\n",
    "            ))\n",
    "    \n",
    "    fig.add_trace(go.Scatter(\n",
    "                x=[None],\n",
    "                y=[None],\n",
    "                mode=\"markers\",\n",
    "                name=f\"order of model: {order}\",\n",
    "                marker=dict(size=7, color=\"orange\", symbol='square'),\n",
    "            ))\n",
    "\n",
    "\n",
    "    # Update layout for better visualization\n",
    "    fig.update_layout(\n",
    "        title=\"Interactive Scatter Plot with Line of Best Fit\",\n",
    "        xaxis_title=\"X-axis\",\n",
    "        yaxis_title=\"Y-axis\",\n",
    "        height=600, \n",
    "        width=1080\n",
    "    )\n",
    "\n",
    "    return fig"
   ]
  },
  {
   "cell_type": "code",
   "execution_count": 14,
   "metadata": {},
   "outputs": [
    {
     "data": {
      "application/vnd.plotly.v1+json": {
       "config": {
        "plotlyServerURL": "https://plot.ly"
       },
       "data": [
        {
         "mode": "markers",
         "name": "Data",
         "type": "scatter",
         "x": [
          56.33557089367566,
          4.022958727817248,
          55.66933996672777,
          94.34032956415192,
          77.8555591449258,
          -31.12513147978268,
          33.74085756642419,
          34.68353358580773,
          -80.34324140589298,
          -100.47851123756155,
          44.155017086935686,
          161.20834577917768,
          4.731132670330136,
          145.28518917778928,
          -12.454342655490867,
          -42.003894801761334,
          81.57148376526436,
          10.059034281906687,
          101.98208448959608,
          -0.5944889476776831,
          166.51838108516236,
          -93.19524035020049,
          40.09025823901941,
          -128.4156301835823,
          63.80537071466289,
          -56.4750000870487,
          63.096253282554024,
          -57.645532031223404,
          29.67611355619082,
          -76.98660206414829,
          121.19513727043412,
          -66.60924038411534,
          82.88958824566039,
          59.79206384084069,
          -36.900743563507824,
          -6.389801231380715,
          80.91388519720837,
          -173.30729262040586,
          44.468316434932355,
          -34.16673982012914,
          28.799185114371596,
          -29.264728931930804,
          4.971405725441271,
          -5.3923380684709405,
          3.445114107813079,
          97.25823174666662,
          -4.760019567378807,
          85.83439854007496,
          66.72345968936798,
          -135.19740058867205,
          7.673546356094866,
          -3.1701176135356426,
          10.19214787056195,
          -49.30195371192037,
          -71.1473253433397,
          184.58300110848998,
          46.62133600600109,
          5.320573541605976,
          -16.347138919661862,
          23.74081995433169,
          -41.155562126839214,
          -35.07320638949437,
          183.4906272207253,
          7.708536279638972,
          -46.57914991186992,
          76.71136258087242,
          -49.70060853114324,
          131.61574915076514,
          -45.69739936724802,
          5.2045514210550605,
          -202.18679772733665,
          -171.4582700490138,
          118.9571797071791,
          63.498328304118324,
          123.35437676247125,
          -123.4614736167506,
          -140.74850204848192,
          11.957920940967801,
          -56.08799899338147,
          -128.4374758302997,
          118.75674192747212,
          81.05865153918927,
          155.61128058836172,
          -57.087503847586554,
          -32.511070552862606,
          -67.52971990693771,
          52.050201912473945,
          -163.50301142128532,
          -104.6838667242024,
          -27.272336020899267,
          -73.2610054897553,
          -13.530670706844367,
          88.41824583988712,
          -28.03137257171391,
          204.09816811751588,
          0.9233784961213536,
          -122.64384942979942,
          -49.96086544891393,
          158.98220545313063,
          -4.126091883102333
         ],
         "y": [
          -2818.005468155274,
          2258.154645749223,
          1344.6014367428925,
          9390.807375000973,
          4021.3137590988767,
          -4502.655984329794,
          434.5090565421285,
          5609.701548894593,
          14268.23002959789,
          9169.423729436392,
          -4715.920251569873,
          31455.31874842146,
          1575.587478841598,
          25393.352943451227,
          -9222.827290930143,
          5385.60612476846,
          349.4688678031016,
          -4697.443479020145,
          14680.97775152457,
          2787.197630320063,
          38012.999386816184,
          5972.121389794176,
          -6321.480095017661,
          24697.45239143867,
          2091.0198050383233,
          3104.164318632219,
          5511.089306134306,
          -421.1069984977207,
          4080.5112435594338,
          9289.076464972779,
          9479.875925756412,
          3626.874756758569,
          15.68023007089323,
          16744.06260907262,
          104.16087113469109,
          3988.869585540802,
          7273.5085164590255,
          28157.47444520112,
          1731.5868384598928,
          642.8196344252415,
          -1404.7298622461126,
          9341.125726936963,
          5117.880940023006,
          -3108.565151430269,
          6491.348328656323,
          15947.217044253292,
          198.13200815232716,
          11370.269922640098,
          13313.460262703959,
          18405.858048838036,
          -3138.367789007606,
          -314.11143071712087,
          -4724.360710802759,
          -2864.07546485461,
          -3149.803023745082,
          31777.309422344835,
          3798.0943679588986,
          -489.2217415475734,
          -8784.643939124744,
          -2016.1480028780752,
          4618.788294612592,
          -3314.12191689119,
          29076.29644483585,
          1173.5344481961122,
          5013.401087946406,
          -1456.3148696865355,
          7483.338860157257,
          21588.96856542594,
          -7227.536828126056,
          -2101.669623314885,
          42493.20446490045,
          28404.245579138584,
          12866.433650818572,
          12127.640126741688,
          3204.6710038675756,
          15523.357868050483,
          20477.08550956385,
          4494.885255600608,
          1173.98684055294,
          15181.880282205144,
          15556.70639828088,
          10066.144640139823,
          29642.251539929133,
          4799.136545418552,
          2269.5671838350227,
          10866.500690181192,
          -4344.952844358406,
          28257.35330211453,
          1490.0651300772533,
          2541.66361384588,
          9055.740701789766,
          -7004.381639331363,
          15883.41823435172,
          3224.7742243985012,
          43557.13625812917,
          1274.9222999490444,
          26558.235606550046,
          8117.216391952918,
          24768.986980179492,
          4484.826698386789
         ]
        },
        {
         "mode": "lines",
         "name": "y = 1.05x² + 0.44x + -114.65<br>R² = 0.809",
         "type": "scatter",
         "x": [
          -202.18679772733665,
          -198.08290918344926,
          -193.97902063956187,
          -189.87513209567445,
          -185.77124355178705,
          -181.66735500789966,
          -177.56346646401227,
          -173.45957792012484,
          -169.35568937623745,
          -165.25180083235006,
          -161.14791228846266,
          -157.04402374457527,
          -152.94013520068785,
          -148.83624665680045,
          -144.73235811291306,
          -140.62846956902567,
          -136.52458102513827,
          -132.42069248125085,
          -128.31680393736346,
          -124.21291539347607,
          -120.10902684958866,
          -116.00513830570127,
          -111.90124976181386,
          -107.79736121792646,
          -103.69347267403907,
          -99.58958413015166,
          -95.48569558626427,
          -91.38180704237686,
          -87.27791849848947,
          -83.17402995460206,
          -79.07014141071467,
          -74.96625286682726,
          -70.86236432293987,
          -66.75847577905247,
          -62.65458723516508,
          -58.55069869127766,
          -54.446810147390266,
          -50.34292160350287,
          -46.23903305961548,
          -42.13514451572806,
          -38.031255971840665,
          -33.92736742795327,
          -29.823478884065878,
          -25.719590340178485,
          -21.615701796291063,
          -17.51181325240367,
          -13.407924708516276,
          -9.304036164628883,
          -5.20014762074149,
          -1.0962590768540679,
          3.0076294670333255,
          7.111518010920719,
          11.215406554808112,
          15.319295098695534,
          19.423183642582927,
          23.52707218647032,
          27.630960730357714,
          31.734849274245107,
          35.83873781813253,
          39.94262636201992,
          44.046514905907316,
          48.15040344979471,
          52.25429199368213,
          56.358180537569496,
          60.46206908145692,
          64.56595762534434,
          68.6698461692317,
          72.77373471311913,
          76.87762325700649,
          80.98151180089391,
          85.08540034478133,
          89.1892888886687,
          93.29317743255612,
          97.39706597644349,
          101.50095452033091,
          105.60484306421833,
          109.7087316081057,
          113.81262015199312,
          117.91650869588054,
          122.0203972397679,
          126.12428578365532,
          130.2281743275427,
          134.3320628714301,
          138.43595141531753,
          142.5398399592049,
          146.64372850309232,
          150.74761704697968,
          154.8515055908671,
          158.95539413475453,
          163.0592826786419,
          167.16317122252931,
          171.26705976641668,
          175.3709483103041,
          179.47483685419152,
          183.5787253980789,
          187.6826139419663,
          191.78650248585367,
          195.8903910297411,
          199.99427957362852,
          204.09816811751588
         ],
         "y": [
          42725.02512134585,
          41001.83754149791,
          39314.021812087965,
          37661.57793311602,
          36044.50590458209,
          34462.80572648617,
          32916.47739882825,
          31405.520921608324,
          29929.936294826417,
          28489.72351848251,
          27084.882592576614,
          25715.41351710872,
          24381.316292078824,
          23082.590917486938,
          21819.237393333064,
          20591.25571961719,
          19398.645896339327,
          18241.407923499453,
          17119.5418010976,
          16033.047529133746,
          14981.925107607896,
          13966.174536520057,
          12985.795815870217,
          12040.788945658387,
          11131.153925884562,
          10256.890756548739,
          9417.999437650924,
          8614.479969191114,
          7846.332351169307,
          7113.556583585506,
          6416.152666439712,
          5754.120599731921,
          5127.460383462139,
          4536.172017630361,
          3980.2555022365873,
          3459.710837280816,
          2974.538022763054,
          2524.7370586832967,
          2110.307945041545,
          1731.2506818377954,
          1387.565269072054,
          1079.2517067443177,
          806.3099948545866,
          568.7401334028606,
          366.5421223891386,
          199.7159618134233,
          68.2616516757132,
          -27.82080802399176,
          -88.53141728569155,
          -113.87017610938622,
          -103.83708449507542,
          -58.432142442759435,
          22.3446500475617,
          138.49329297588895,
          290.01378634222067,
          476.9061301465576,
          699.1703243888996,
          956.806369069247,
          1249.8142641876016,
          1578.1940097439594,
          1941.9456057383225,
          2341.0690521706906,
          2775.5643490410666,
          3245.4314963494426,
          3750.67049409583,
          4291.281342280222,
          4867.264040902613,
          5478.618589963017,
          6125.344989461417,
          6807.443239397831,
          7524.913339772253,
          8277.755290584666,
          9065.969091835099,
          9889.554743523524,
          10748.512245649965,
          11642.841598214412,
          12572.542801216854,
          13537.615854657312,
          14538.060758535776,
          15573.877512852232,
          16645.066117606708,
          17751.62657279917,
          18893.558878429656,
          20070.863034498147,
          21283.53904100463,
          22531.586897949128,
          23815.006605331622,
          25133.798163152136,
          26487.961571410655,
          27877.496830107157,
          29302.403939241685,
          30762.682898814204,
          32258.333708824743,
          33789.35636927329,
          35355.750880159816,
          36957.51724148438,
          38594.65545324691,
          40267.16551544749,
          41975.04742808606,
          43718.30119116261
         ]
        },
        {
         "marker": {
          "color": "orange",
          "size": 7,
          "symbol": "square"
         },
         "mode": "markers",
         "name": "# of data points: 100",
         "type": "scatter",
         "x": [
          null
         ],
         "y": [
          null
         ]
        },
        {
         "marker": {
          "color": "orange",
          "size": 7,
          "symbol": "square"
         },
         "mode": "markers",
         "name": "x_data_mean: 0",
         "type": "scatter",
         "x": [
          null
         ],
         "y": [
          null
         ]
        },
        {
         "marker": {
          "color": "orange",
          "size": 7,
          "symbol": "square"
         },
         "mode": "markers",
         "name": "x_dist: norm",
         "type": "scatter",
         "x": [
          null
         ],
         "y": [
          null
         ]
        },
        {
         "marker": {
          "color": "orange",
          "size": 7,
          "symbol": "square"
         },
         "mode": "markers",
         "name": "x_data_std/range: 100",
         "type": "scatter",
         "x": [
          null
         ],
         "y": [
          null
         ]
        },
        {
         "marker": {
          "color": "orange",
          "size": 7,
          "symbol": "square"
         },
         "mode": "markers",
         "name": "y_data_equation: x^2 + 10*x + <br>100",
         "type": "scatter",
         "x": [
          null
         ],
         "y": [
          null
         ]
        },
        {
         "marker": {
          "color": "orange",
          "size": 7,
          "symbol": "square"
         },
         "mode": "markers",
         "name": "y_noise_mean: 0",
         "type": "scatter",
         "x": [
          null
         ],
         "y": [
          null
         ]
        },
        {
         "marker": {
          "color": "orange",
          "size": 7,
          "symbol": "square"
         },
         "mode": "markers",
         "name": "y_noise_dist: norm",
         "type": "scatter",
         "x": [
          null
         ],
         "y": [
          null
         ]
        },
        {
         "marker": {
          "color": "orange",
          "size": 7,
          "symbol": "square"
         },
         "mode": "markers",
         "name": "y_noise_std/range: 5000",
         "type": "scatter",
         "x": [
          null
         ],
         "y": [
          null
         ]
        },
        {
         "marker": {
          "color": "orange",
          "size": 7,
          "symbol": "square"
         },
         "mode": "markers",
         "name": "order of model: 2",
         "type": "scatter",
         "x": [
          null
         ],
         "y": [
          null
         ]
        }
       ],
       "layout": {
        "height": 600,
        "template": {
         "data": {
          "bar": [
           {
            "error_x": {
             "color": "#2a3f5f"
            },
            "error_y": {
             "color": "#2a3f5f"
            },
            "marker": {
             "line": {
              "color": "#E5ECF6",
              "width": 0.5
             },
             "pattern": {
              "fillmode": "overlay",
              "size": 10,
              "solidity": 0.2
             }
            },
            "type": "bar"
           }
          ],
          "barpolar": [
           {
            "marker": {
             "line": {
              "color": "#E5ECF6",
              "width": 0.5
             },
             "pattern": {
              "fillmode": "overlay",
              "size": 10,
              "solidity": 0.2
             }
            },
            "type": "barpolar"
           }
          ],
          "carpet": [
           {
            "aaxis": {
             "endlinecolor": "#2a3f5f",
             "gridcolor": "white",
             "linecolor": "white",
             "minorgridcolor": "white",
             "startlinecolor": "#2a3f5f"
            },
            "baxis": {
             "endlinecolor": "#2a3f5f",
             "gridcolor": "white",
             "linecolor": "white",
             "minorgridcolor": "white",
             "startlinecolor": "#2a3f5f"
            },
            "type": "carpet"
           }
          ],
          "choropleth": [
           {
            "colorbar": {
             "outlinewidth": 0,
             "ticks": ""
            },
            "type": "choropleth"
           }
          ],
          "contour": [
           {
            "colorbar": {
             "outlinewidth": 0,
             "ticks": ""
            },
            "colorscale": [
             [
              0,
              "#0d0887"
             ],
             [
              0.1111111111111111,
              "#46039f"
             ],
             [
              0.2222222222222222,
              "#7201a8"
             ],
             [
              0.3333333333333333,
              "#9c179e"
             ],
             [
              0.4444444444444444,
              "#bd3786"
             ],
             [
              0.5555555555555556,
              "#d8576b"
             ],
             [
              0.6666666666666666,
              "#ed7953"
             ],
             [
              0.7777777777777778,
              "#fb9f3a"
             ],
             [
              0.8888888888888888,
              "#fdca26"
             ],
             [
              1,
              "#f0f921"
             ]
            ],
            "type": "contour"
           }
          ],
          "contourcarpet": [
           {
            "colorbar": {
             "outlinewidth": 0,
             "ticks": ""
            },
            "type": "contourcarpet"
           }
          ],
          "heatmap": [
           {
            "colorbar": {
             "outlinewidth": 0,
             "ticks": ""
            },
            "colorscale": [
             [
              0,
              "#0d0887"
             ],
             [
              0.1111111111111111,
              "#46039f"
             ],
             [
              0.2222222222222222,
              "#7201a8"
             ],
             [
              0.3333333333333333,
              "#9c179e"
             ],
             [
              0.4444444444444444,
              "#bd3786"
             ],
             [
              0.5555555555555556,
              "#d8576b"
             ],
             [
              0.6666666666666666,
              "#ed7953"
             ],
             [
              0.7777777777777778,
              "#fb9f3a"
             ],
             [
              0.8888888888888888,
              "#fdca26"
             ],
             [
              1,
              "#f0f921"
             ]
            ],
            "type": "heatmap"
           }
          ],
          "heatmapgl": [
           {
            "colorbar": {
             "outlinewidth": 0,
             "ticks": ""
            },
            "colorscale": [
             [
              0,
              "#0d0887"
             ],
             [
              0.1111111111111111,
              "#46039f"
             ],
             [
              0.2222222222222222,
              "#7201a8"
             ],
             [
              0.3333333333333333,
              "#9c179e"
             ],
             [
              0.4444444444444444,
              "#bd3786"
             ],
             [
              0.5555555555555556,
              "#d8576b"
             ],
             [
              0.6666666666666666,
              "#ed7953"
             ],
             [
              0.7777777777777778,
              "#fb9f3a"
             ],
             [
              0.8888888888888888,
              "#fdca26"
             ],
             [
              1,
              "#f0f921"
             ]
            ],
            "type": "heatmapgl"
           }
          ],
          "histogram": [
           {
            "marker": {
             "pattern": {
              "fillmode": "overlay",
              "size": 10,
              "solidity": 0.2
             }
            },
            "type": "histogram"
           }
          ],
          "histogram2d": [
           {
            "colorbar": {
             "outlinewidth": 0,
             "ticks": ""
            },
            "colorscale": [
             [
              0,
              "#0d0887"
             ],
             [
              0.1111111111111111,
              "#46039f"
             ],
             [
              0.2222222222222222,
              "#7201a8"
             ],
             [
              0.3333333333333333,
              "#9c179e"
             ],
             [
              0.4444444444444444,
              "#bd3786"
             ],
             [
              0.5555555555555556,
              "#d8576b"
             ],
             [
              0.6666666666666666,
              "#ed7953"
             ],
             [
              0.7777777777777778,
              "#fb9f3a"
             ],
             [
              0.8888888888888888,
              "#fdca26"
             ],
             [
              1,
              "#f0f921"
             ]
            ],
            "type": "histogram2d"
           }
          ],
          "histogram2dcontour": [
           {
            "colorbar": {
             "outlinewidth": 0,
             "ticks": ""
            },
            "colorscale": [
             [
              0,
              "#0d0887"
             ],
             [
              0.1111111111111111,
              "#46039f"
             ],
             [
              0.2222222222222222,
              "#7201a8"
             ],
             [
              0.3333333333333333,
              "#9c179e"
             ],
             [
              0.4444444444444444,
              "#bd3786"
             ],
             [
              0.5555555555555556,
              "#d8576b"
             ],
             [
              0.6666666666666666,
              "#ed7953"
             ],
             [
              0.7777777777777778,
              "#fb9f3a"
             ],
             [
              0.8888888888888888,
              "#fdca26"
             ],
             [
              1,
              "#f0f921"
             ]
            ],
            "type": "histogram2dcontour"
           }
          ],
          "mesh3d": [
           {
            "colorbar": {
             "outlinewidth": 0,
             "ticks": ""
            },
            "type": "mesh3d"
           }
          ],
          "parcoords": [
           {
            "line": {
             "colorbar": {
              "outlinewidth": 0,
              "ticks": ""
             }
            },
            "type": "parcoords"
           }
          ],
          "pie": [
           {
            "automargin": true,
            "type": "pie"
           }
          ],
          "scatter": [
           {
            "fillpattern": {
             "fillmode": "overlay",
             "size": 10,
             "solidity": 0.2
            },
            "type": "scatter"
           }
          ],
          "scatter3d": [
           {
            "line": {
             "colorbar": {
              "outlinewidth": 0,
              "ticks": ""
             }
            },
            "marker": {
             "colorbar": {
              "outlinewidth": 0,
              "ticks": ""
             }
            },
            "type": "scatter3d"
           }
          ],
          "scattercarpet": [
           {
            "marker": {
             "colorbar": {
              "outlinewidth": 0,
              "ticks": ""
             }
            },
            "type": "scattercarpet"
           }
          ],
          "scattergeo": [
           {
            "marker": {
             "colorbar": {
              "outlinewidth": 0,
              "ticks": ""
             }
            },
            "type": "scattergeo"
           }
          ],
          "scattergl": [
           {
            "marker": {
             "colorbar": {
              "outlinewidth": 0,
              "ticks": ""
             }
            },
            "type": "scattergl"
           }
          ],
          "scattermapbox": [
           {
            "marker": {
             "colorbar": {
              "outlinewidth": 0,
              "ticks": ""
             }
            },
            "type": "scattermapbox"
           }
          ],
          "scatterpolar": [
           {
            "marker": {
             "colorbar": {
              "outlinewidth": 0,
              "ticks": ""
             }
            },
            "type": "scatterpolar"
           }
          ],
          "scatterpolargl": [
           {
            "marker": {
             "colorbar": {
              "outlinewidth": 0,
              "ticks": ""
             }
            },
            "type": "scatterpolargl"
           }
          ],
          "scatterternary": [
           {
            "marker": {
             "colorbar": {
              "outlinewidth": 0,
              "ticks": ""
             }
            },
            "type": "scatterternary"
           }
          ],
          "surface": [
           {
            "colorbar": {
             "outlinewidth": 0,
             "ticks": ""
            },
            "colorscale": [
             [
              0,
              "#0d0887"
             ],
             [
              0.1111111111111111,
              "#46039f"
             ],
             [
              0.2222222222222222,
              "#7201a8"
             ],
             [
              0.3333333333333333,
              "#9c179e"
             ],
             [
              0.4444444444444444,
              "#bd3786"
             ],
             [
              0.5555555555555556,
              "#d8576b"
             ],
             [
              0.6666666666666666,
              "#ed7953"
             ],
             [
              0.7777777777777778,
              "#fb9f3a"
             ],
             [
              0.8888888888888888,
              "#fdca26"
             ],
             [
              1,
              "#f0f921"
             ]
            ],
            "type": "surface"
           }
          ],
          "table": [
           {
            "cells": {
             "fill": {
              "color": "#EBF0F8"
             },
             "line": {
              "color": "white"
             }
            },
            "header": {
             "fill": {
              "color": "#C8D4E3"
             },
             "line": {
              "color": "white"
             }
            },
            "type": "table"
           }
          ]
         },
         "layout": {
          "annotationdefaults": {
           "arrowcolor": "#2a3f5f",
           "arrowhead": 0,
           "arrowwidth": 1
          },
          "autotypenumbers": "strict",
          "coloraxis": {
           "colorbar": {
            "outlinewidth": 0,
            "ticks": ""
           }
          },
          "colorscale": {
           "diverging": [
            [
             0,
             "#8e0152"
            ],
            [
             0.1,
             "#c51b7d"
            ],
            [
             0.2,
             "#de77ae"
            ],
            [
             0.3,
             "#f1b6da"
            ],
            [
             0.4,
             "#fde0ef"
            ],
            [
             0.5,
             "#f7f7f7"
            ],
            [
             0.6,
             "#e6f5d0"
            ],
            [
             0.7,
             "#b8e186"
            ],
            [
             0.8,
             "#7fbc41"
            ],
            [
             0.9,
             "#4d9221"
            ],
            [
             1,
             "#276419"
            ]
           ],
           "sequential": [
            [
             0,
             "#0d0887"
            ],
            [
             0.1111111111111111,
             "#46039f"
            ],
            [
             0.2222222222222222,
             "#7201a8"
            ],
            [
             0.3333333333333333,
             "#9c179e"
            ],
            [
             0.4444444444444444,
             "#bd3786"
            ],
            [
             0.5555555555555556,
             "#d8576b"
            ],
            [
             0.6666666666666666,
             "#ed7953"
            ],
            [
             0.7777777777777778,
             "#fb9f3a"
            ],
            [
             0.8888888888888888,
             "#fdca26"
            ],
            [
             1,
             "#f0f921"
            ]
           ],
           "sequentialminus": [
            [
             0,
             "#0d0887"
            ],
            [
             0.1111111111111111,
             "#46039f"
            ],
            [
             0.2222222222222222,
             "#7201a8"
            ],
            [
             0.3333333333333333,
             "#9c179e"
            ],
            [
             0.4444444444444444,
             "#bd3786"
            ],
            [
             0.5555555555555556,
             "#d8576b"
            ],
            [
             0.6666666666666666,
             "#ed7953"
            ],
            [
             0.7777777777777778,
             "#fb9f3a"
            ],
            [
             0.8888888888888888,
             "#fdca26"
            ],
            [
             1,
             "#f0f921"
            ]
           ]
          },
          "colorway": [
           "#636efa",
           "#EF553B",
           "#00cc96",
           "#ab63fa",
           "#FFA15A",
           "#19d3f3",
           "#FF6692",
           "#B6E880",
           "#FF97FF",
           "#FECB52"
          ],
          "font": {
           "color": "#2a3f5f"
          },
          "geo": {
           "bgcolor": "white",
           "lakecolor": "white",
           "landcolor": "#E5ECF6",
           "showlakes": true,
           "showland": true,
           "subunitcolor": "white"
          },
          "hoverlabel": {
           "align": "left"
          },
          "hovermode": "closest",
          "mapbox": {
           "style": "light"
          },
          "paper_bgcolor": "white",
          "plot_bgcolor": "#E5ECF6",
          "polar": {
           "angularaxis": {
            "gridcolor": "white",
            "linecolor": "white",
            "ticks": ""
           },
           "bgcolor": "#E5ECF6",
           "radialaxis": {
            "gridcolor": "white",
            "linecolor": "white",
            "ticks": ""
           }
          },
          "scene": {
           "xaxis": {
            "backgroundcolor": "#E5ECF6",
            "gridcolor": "white",
            "gridwidth": 2,
            "linecolor": "white",
            "showbackground": true,
            "ticks": "",
            "zerolinecolor": "white"
           },
           "yaxis": {
            "backgroundcolor": "#E5ECF6",
            "gridcolor": "white",
            "gridwidth": 2,
            "linecolor": "white",
            "showbackground": true,
            "ticks": "",
            "zerolinecolor": "white"
           },
           "zaxis": {
            "backgroundcolor": "#E5ECF6",
            "gridcolor": "white",
            "gridwidth": 2,
            "linecolor": "white",
            "showbackground": true,
            "ticks": "",
            "zerolinecolor": "white"
           }
          },
          "shapedefaults": {
           "line": {
            "color": "#2a3f5f"
           }
          },
          "ternary": {
           "aaxis": {
            "gridcolor": "white",
            "linecolor": "white",
            "ticks": ""
           },
           "baxis": {
            "gridcolor": "white",
            "linecolor": "white",
            "ticks": ""
           },
           "bgcolor": "#E5ECF6",
           "caxis": {
            "gridcolor": "white",
            "linecolor": "white",
            "ticks": ""
           }
          },
          "title": {
           "x": 0.05
          },
          "xaxis": {
           "automargin": true,
           "gridcolor": "white",
           "linecolor": "white",
           "ticks": "",
           "title": {
            "standoff": 15
           },
           "zerolinecolor": "white",
           "zerolinewidth": 2
          },
          "yaxis": {
           "automargin": true,
           "gridcolor": "white",
           "linecolor": "white",
           "ticks": "",
           "title": {
            "standoff": 15
           },
           "zerolinecolor": "white",
           "zerolinewidth": 2
          }
         }
        },
        "title": {
         "text": "Interactive Scatter Plot with Line of Best Fit"
        },
        "width": 1080,
        "xaxis": {
         "title": {
          "text": "X-axis"
         }
        },
        "yaxis": {
         "title": {
          "text": "Y-axis"
         }
        }
       }
      }
     },
     "metadata": {},
     "output_type": "display_data"
    }
   ],
   "source": [
    "# Example usage:\n",
    "x_mean_val = 0\n",
    "x_std_or_range = 100\n",
    "y_equation = \"x^2 + 10*x + 100\"  # Your equation string\n",
    "y_noise_mean = 0\n",
    "y_noise_std_or_range = 5000\n",
    "num_of_points = 100\n",
    "#x_uniform_distribution = \"uni\"\n",
    "x_normal_distribution = \"norm\"\n",
    "#y_uniform_distribution = \"uni\"\n",
    "y_normal_distribution = \"norm\"\n",
    "order = 2\n",
    "\n",
    "\n",
    "#create_dist(x_mean: float, x_std: float, y_equation: str, y_noise_mean: float, y_noise_std, num_of_points: int, order: int, x_dist: str, y_dist: str):\n",
    "create_dist(x_mean_val, x_std_or_range, y_equation, y_noise_mean, y_noise_std_or_range, num_of_points, order, x_normal_distribution, y_normal_distribution)"
   ]
  }
 ],
 "metadata": {
  "kernelspec": {
   "display_name": "dev-env",
   "language": "python",
   "name": "python3"
  },
  "language_info": {
   "codemirror_mode": {
    "name": "ipython",
    "version": 3
   },
   "file_extension": ".py",
   "mimetype": "text/x-python",
   "name": "python",
   "nbconvert_exporter": "python",
   "pygments_lexer": "ipython3",
   "version": "3.11.0"
  }
 },
 "nbformat": 4,
 "nbformat_minor": 2
}
